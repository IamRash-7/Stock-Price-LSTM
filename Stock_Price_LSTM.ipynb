{
  "nbformat": 4,
  "nbformat_minor": 0,
  "metadata": {
    "colab": {
      "name": "Stock Price LSTM.ipynb",
      "provenance": [],
      "authorship_tag": "ABX9TyM4Saq5J6v4bn5RShdIUaFB",
      "include_colab_link": true
    },
    "kernelspec": {
      "name": "python3",
      "display_name": "Python 3"
    },
    "language_info": {
      "name": "python"
    },
    "accelerator": "GPU"
  },
  "cells": [
    {
      "cell_type": "markdown",
      "metadata": {
        "id": "view-in-github",
        "colab_type": "text"
      },
      "source": [
        "<a href=\"https://colab.research.google.com/github/IamRash-7/Stock-Price-LSTM/blob/main/Stock_Price_LSTM.ipynb\" target=\"_parent\"><img src=\"https://colab.research.google.com/assets/colab-badge.svg\" alt=\"Open In Colab\"/></a>"
      ]
    },
    {
      "cell_type": "code",
      "metadata": {
        "id": "ms_zz_VeEQUz"
      },
      "source": [
        "import pandas_datareader as pdr\n",
        "import pandas as pd\n",
        "import matplotlib.pyplot as plt\n",
        "import numpy as np\n",
        "from sklearn.preprocessing import MinMaxScaler\n",
        "import math\n",
        "from sklearn.metrics import mean_squared_error"
      ],
      "execution_count": 57,
      "outputs": []
    },
    {
      "cell_type": "code",
      "metadata": {
        "id": "F_PObq4n4QdN"
      },
      "source": [
        "from tensorflow.keras.models import Sequential\n",
        "from tensorflow.keras.layers import Dense\n",
        "from tensorflow.keras.layers import LSTM, Dropout"
      ],
      "execution_count": 58,
      "outputs": []
    },
    {
      "cell_type": "markdown",
      "metadata": {
        "id": "A43PF4kbQprn"
      },
      "source": [
        "# Download Data\n",
        "\n",
        "This can be done in using pandas datareader. I used tiingo, but yahoo data can also be used\n",
        "\n"
      ]
    },
    {
      "cell_type": "code",
      "metadata": {
        "id": "yu3XK5iaF-dW"
      },
      "source": [
        "#DISNEY STOCK\n",
        "df = pdr.get_data_tiingo('DIS', api_key=key)"
      ],
      "execution_count": 60,
      "outputs": []
    },
    {
      "cell_type": "code",
      "metadata": {
        "id": "C5MFDXnQGbF5"
      },
      "source": [
        "df.to_csv('DIS.csv')"
      ],
      "execution_count": 61,
      "outputs": []
    },
    {
      "cell_type": "code",
      "metadata": {
        "id": "msu8Gi2WGhM7"
      },
      "source": [
        "df = pd.read_csv('DIS.csv')"
      ],
      "execution_count": 62,
      "outputs": []
    },
    {
      "cell_type": "code",
      "metadata": {
        "colab": {
          "base_uri": "https://localhost:8080/",
          "height": 419
        },
        "id": "e7Y9U76_Gnao",
        "outputId": "4f8ace4a-5def-493f-9063-0b7dc34fa95a"
      },
      "source": [
        "#Dataset contains 5 years of data\n",
        "df"
      ],
      "execution_count": 63,
      "outputs": [
        {
          "output_type": "execute_result",
          "data": {
            "text/html": [
              "<div>\n",
              "<style scoped>\n",
              "    .dataframe tbody tr th:only-of-type {\n",
              "        vertical-align: middle;\n",
              "    }\n",
              "\n",
              "    .dataframe tbody tr th {\n",
              "        vertical-align: top;\n",
              "    }\n",
              "\n",
              "    .dataframe thead th {\n",
              "        text-align: right;\n",
              "    }\n",
              "</style>\n",
              "<table border=\"1\" class=\"dataframe\">\n",
              "  <thead>\n",
              "    <tr style=\"text-align: right;\">\n",
              "      <th></th>\n",
              "      <th>symbol</th>\n",
              "      <th>date</th>\n",
              "      <th>close</th>\n",
              "      <th>high</th>\n",
              "      <th>low</th>\n",
              "      <th>open</th>\n",
              "      <th>volume</th>\n",
              "      <th>adjClose</th>\n",
              "      <th>adjHigh</th>\n",
              "      <th>adjLow</th>\n",
              "      <th>adjOpen</th>\n",
              "      <th>adjVolume</th>\n",
              "      <th>divCash</th>\n",
              "      <th>splitFactor</th>\n",
              "    </tr>\n",
              "  </thead>\n",
              "  <tbody>\n",
              "    <tr>\n",
              "      <th>0</th>\n",
              "      <td>DIS</td>\n",
              "      <td>2016-08-12 00:00:00+00:00</td>\n",
              "      <td>96.84</td>\n",
              "      <td>97.82</td>\n",
              "      <td>96.6600</td>\n",
              "      <td>97.82</td>\n",
              "      <td>9356523</td>\n",
              "      <td>92.022474</td>\n",
              "      <td>92.953721</td>\n",
              "      <td>91.851428</td>\n",
              "      <td>92.953721</td>\n",
              "      <td>9356523</td>\n",
              "      <td>0.0</td>\n",
              "      <td>1.0</td>\n",
              "    </tr>\n",
              "    <tr>\n",
              "      <th>1</th>\n",
              "      <td>DIS</td>\n",
              "      <td>2016-08-15 00:00:00+00:00</td>\n",
              "      <td>97.10</td>\n",
              "      <td>97.61</td>\n",
              "      <td>96.9200</td>\n",
              "      <td>97.35</td>\n",
              "      <td>5299588</td>\n",
              "      <td>92.269539</td>\n",
              "      <td>92.754168</td>\n",
              "      <td>92.098494</td>\n",
              "      <td>92.507102</td>\n",
              "      <td>5299588</td>\n",
              "      <td>0.0</td>\n",
              "      <td>1.0</td>\n",
              "    </tr>\n",
              "    <tr>\n",
              "      <th>2</th>\n",
              "      <td>DIS</td>\n",
              "      <td>2016-08-16 00:00:00+00:00</td>\n",
              "      <td>96.88</td>\n",
              "      <td>97.25</td>\n",
              "      <td>96.2681</td>\n",
              "      <td>96.86</td>\n",
              "      <td>5777756</td>\n",
              "      <td>92.060484</td>\n",
              "      <td>92.412077</td>\n",
              "      <td>91.479024</td>\n",
              "      <td>92.041479</td>\n",
              "      <td>5777756</td>\n",
              "      <td>0.0</td>\n",
              "      <td>1.0</td>\n",
              "    </tr>\n",
              "    <tr>\n",
              "      <th>3</th>\n",
              "      <td>DIS</td>\n",
              "      <td>2016-08-17 00:00:00+00:00</td>\n",
              "      <td>96.87</td>\n",
              "      <td>96.97</td>\n",
              "      <td>96.5200</td>\n",
              "      <td>96.84</td>\n",
              "      <td>5697173</td>\n",
              "      <td>92.050981</td>\n",
              "      <td>92.146006</td>\n",
              "      <td>91.718393</td>\n",
              "      <td>92.022474</td>\n",
              "      <td>5697173</td>\n",
              "      <td>0.0</td>\n",
              "      <td>1.0</td>\n",
              "    </tr>\n",
              "    <tr>\n",
              "      <th>4</th>\n",
              "      <td>DIS</td>\n",
              "      <td>2016-08-18 00:00:00+00:00</td>\n",
              "      <td>96.65</td>\n",
              "      <td>97.12</td>\n",
              "      <td>96.5500</td>\n",
              "      <td>96.87</td>\n",
              "      <td>5250741</td>\n",
              "      <td>91.841926</td>\n",
              "      <td>92.288544</td>\n",
              "      <td>91.746900</td>\n",
              "      <td>92.050981</td>\n",
              "      <td>5250741</td>\n",
              "      <td>0.0</td>\n",
              "      <td>1.0</td>\n",
              "    </tr>\n",
              "    <tr>\n",
              "      <th>...</th>\n",
              "      <td>...</td>\n",
              "      <td>...</td>\n",
              "      <td>...</td>\n",
              "      <td>...</td>\n",
              "      <td>...</td>\n",
              "      <td>...</td>\n",
              "      <td>...</td>\n",
              "      <td>...</td>\n",
              "      <td>...</td>\n",
              "      <td>...</td>\n",
              "      <td>...</td>\n",
              "      <td>...</td>\n",
              "      <td>...</td>\n",
              "      <td>...</td>\n",
              "    </tr>\n",
              "    <tr>\n",
              "      <th>1252</th>\n",
              "      <td>DIS</td>\n",
              "      <td>2021-08-04 00:00:00+00:00</td>\n",
              "      <td>172.58</td>\n",
              "      <td>173.25</td>\n",
              "      <td>171.3400</td>\n",
              "      <td>172.50</td>\n",
              "      <td>5665827</td>\n",
              "      <td>172.580000</td>\n",
              "      <td>173.250000</td>\n",
              "      <td>171.340000</td>\n",
              "      <td>172.500000</td>\n",
              "      <td>5665827</td>\n",
              "      <td>0.0</td>\n",
              "      <td>1.0</td>\n",
              "    </tr>\n",
              "    <tr>\n",
              "      <th>1253</th>\n",
              "      <td>DIS</td>\n",
              "      <td>2021-08-05 00:00:00+00:00</td>\n",
              "      <td>176.71</td>\n",
              "      <td>177.12</td>\n",
              "      <td>172.4900</td>\n",
              "      <td>172.49</td>\n",
              "      <td>8864174</td>\n",
              "      <td>176.710000</td>\n",
              "      <td>177.120000</td>\n",
              "      <td>172.490000</td>\n",
              "      <td>172.490000</td>\n",
              "      <td>8864174</td>\n",
              "      <td>0.0</td>\n",
              "      <td>1.0</td>\n",
              "    </tr>\n",
              "    <tr>\n",
              "      <th>1254</th>\n",
              "      <td>DIS</td>\n",
              "      <td>2021-08-06 00:00:00+00:00</td>\n",
              "      <td>177.13</td>\n",
              "      <td>178.81</td>\n",
              "      <td>176.6300</td>\n",
              "      <td>177.43</td>\n",
              "      <td>5505241</td>\n",
              "      <td>177.130000</td>\n",
              "      <td>178.810000</td>\n",
              "      <td>176.630000</td>\n",
              "      <td>177.430000</td>\n",
              "      <td>5505241</td>\n",
              "      <td>0.0</td>\n",
              "      <td>1.0</td>\n",
              "    </tr>\n",
              "    <tr>\n",
              "      <th>1255</th>\n",
              "      <td>DIS</td>\n",
              "      <td>2021-08-09 00:00:00+00:00</td>\n",
              "      <td>176.72</td>\n",
              "      <td>177.31</td>\n",
              "      <td>175.0620</td>\n",
              "      <td>177.00</td>\n",
              "      <td>5338969</td>\n",
              "      <td>176.720000</td>\n",
              "      <td>177.310000</td>\n",
              "      <td>175.062000</td>\n",
              "      <td>177.000000</td>\n",
              "      <td>5338969</td>\n",
              "      <td>0.0</td>\n",
              "      <td>1.0</td>\n",
              "    </tr>\n",
              "    <tr>\n",
              "      <th>1256</th>\n",
              "      <td>DIS</td>\n",
              "      <td>2021-08-10 00:00:00+00:00</td>\n",
              "      <td>177.07</td>\n",
              "      <td>177.40</td>\n",
              "      <td>175.5800</td>\n",
              "      <td>176.25</td>\n",
              "      <td>5184959</td>\n",
              "      <td>177.070000</td>\n",
              "      <td>177.400000</td>\n",
              "      <td>175.580000</td>\n",
              "      <td>176.250000</td>\n",
              "      <td>5184959</td>\n",
              "      <td>0.0</td>\n",
              "      <td>1.0</td>\n",
              "    </tr>\n",
              "  </tbody>\n",
              "</table>\n",
              "<p>1257 rows × 14 columns</p>\n",
              "</div>"
            ],
            "text/plain": [
              "     symbol                       date   close  ...  adjVolume  divCash  splitFactor\n",
              "0       DIS  2016-08-12 00:00:00+00:00   96.84  ...    9356523      0.0          1.0\n",
              "1       DIS  2016-08-15 00:00:00+00:00   97.10  ...    5299588      0.0          1.0\n",
              "2       DIS  2016-08-16 00:00:00+00:00   96.88  ...    5777756      0.0          1.0\n",
              "3       DIS  2016-08-17 00:00:00+00:00   96.87  ...    5697173      0.0          1.0\n",
              "4       DIS  2016-08-18 00:00:00+00:00   96.65  ...    5250741      0.0          1.0\n",
              "...     ...                        ...     ...  ...        ...      ...          ...\n",
              "1252    DIS  2021-08-04 00:00:00+00:00  172.58  ...    5665827      0.0          1.0\n",
              "1253    DIS  2021-08-05 00:00:00+00:00  176.71  ...    8864174      0.0          1.0\n",
              "1254    DIS  2021-08-06 00:00:00+00:00  177.13  ...    5505241      0.0          1.0\n",
              "1255    DIS  2021-08-09 00:00:00+00:00  176.72  ...    5338969      0.0          1.0\n",
              "1256    DIS  2021-08-10 00:00:00+00:00  177.07  ...    5184959      0.0          1.0\n",
              "\n",
              "[1257 rows x 14 columns]"
            ]
          },
          "metadata": {
            "tags": []
          },
          "execution_count": 63
        }
      ]
    },
    {
      "cell_type": "code",
      "metadata": {
        "id": "8Tp7FB1-GrCj"
      },
      "source": [
        "df1 = df.reset_index()['close']"
      ],
      "execution_count": 64,
      "outputs": []
    },
    {
      "cell_type": "code",
      "metadata": {
        "colab": {
          "base_uri": "https://localhost:8080/"
        },
        "id": "Scg2GcJSHhJX",
        "outputId": "dc4a7809-a148-4c08-df29-834a18cccce7"
      },
      "source": [
        "df1.head()"
      ],
      "execution_count": 65,
      "outputs": [
        {
          "output_type": "execute_result",
          "data": {
            "text/plain": [
              "0    96.84\n",
              "1    97.10\n",
              "2    96.88\n",
              "3    96.87\n",
              "4    96.65\n",
              "Name: close, dtype: float64"
            ]
          },
          "metadata": {
            "tags": []
          },
          "execution_count": 65
        }
      ]
    },
    {
      "cell_type": "code",
      "metadata": {
        "colab": {
          "base_uri": "https://localhost:8080/"
        },
        "id": "AneB2dbMHD-C",
        "outputId": "c26571bb-125d-4d34-b8a6-098825d25e52"
      },
      "source": [
        "df1.shape"
      ],
      "execution_count": 66,
      "outputs": [
        {
          "output_type": "execute_result",
          "data": {
            "text/plain": [
              "(1257,)"
            ]
          },
          "metadata": {
            "tags": []
          },
          "execution_count": 66
        }
      ]
    },
    {
      "cell_type": "code",
      "metadata": {
        "colab": {
          "base_uri": "https://localhost:8080/",
          "height": 391
        },
        "id": "WivXDWLbHcOM",
        "outputId": "32420edb-36b5-4f06-ba5c-119084a726d4"
      },
      "source": [
        "#Visualise Data\n",
        "plt.figure(figsize=(18,6))\n",
        "plt.plot(df1)"
      ],
      "execution_count": 107,
      "outputs": [
        {
          "output_type": "execute_result",
          "data": {
            "text/plain": [
              "[<matplotlib.lines.Line2D at 0x7f2035e64290>]"
            ]
          },
          "metadata": {
            "tags": []
          },
          "execution_count": 107
        },
        {
          "output_type": "display_data",
          "data": {
            "image/png": "[encoded data removed]",
            "text/plain": [
              "<Figure size 1296x432 with 1 Axes>"
            ]
          },
          "metadata": {
            "tags": [],
            "needs_background": "light"
          }
        }
      ]
    },
    {
      "cell_type": "markdown",
      "metadata": {
        "id": "ODCMRAi_S4CC"
      },
      "source": [
        "# DATA PREPERATION"
      ]
    },
    {
      "cell_type": "code",
      "metadata": {
        "id": "QcYhSnMJHw8j"
      },
      "source": [
        "#Scale the data between 0 and 1. LSTMs work better on normalized data\n",
        "scaler = MinMaxScaler(feature_range=(0,1))\n",
        "df1 = scaler.fit_transform(np.array(df1).reshape(-1,1))"
      ],
      "execution_count": 68,
      "outputs": []
    },
    {
      "cell_type": "code",
      "metadata": {
        "colab": {
          "base_uri": "https://localhost:8080/"
        },
        "id": "O89-n4zLID5r",
        "outputId": "f076935e-2510-4c10-cd6b-805edb13b850"
      },
      "source": [
        "df1"
      ],
      "execution_count": 69,
      "outputs": [
        {
          "output_type": "execute_result",
          "data": {
            "text/plain": [
              "array([[0.09539389],\n",
              "       [0.09763237],\n",
              "       [0.09573827],\n",
              "       ...,\n",
              "       [0.78665519],\n",
              "       [0.78312527],\n",
              "       [0.78613861]])"
            ]
          },
          "metadata": {
            "tags": []
          },
          "execution_count": 69
        }
      ]
    },
    {
      "cell_type": "code",
      "metadata": {
        "colab": {
          "base_uri": "https://localhost:8080/"
        },
        "id": "3llF9C4Tv0jG",
        "outputId": "5e413527-2eec-4136-e002-9f84aaf99ab2"
      },
      "source": [
        "#65% of total data is for training and rest is for testing\n",
        "\n",
        "train_size = int(len(df1)*0.65)\n",
        "train_size"
      ],
      "execution_count": 70,
      "outputs": [
        {
          "output_type": "execute_result",
          "data": {
            "text/plain": [
              "817"
            ]
          },
          "metadata": {
            "tags": []
          },
          "execution_count": 70
        }
      ]
    },
    {
      "cell_type": "code",
      "metadata": {
        "colab": {
          "base_uri": "https://localhost:8080/"
        },
        "id": "foRQg_9OwNqS",
        "outputId": "c52a2314-35f6-4739-b4fb-10b86c868562"
      },
      "source": [
        "test_size = len(df1)-train_size\n",
        "test_size"
      ],
      "execution_count": 71,
      "outputs": [
        {
          "output_type": "execute_result",
          "data": {
            "text/plain": [
              "440"
            ]
          },
          "metadata": {
            "tags": []
          },
          "execution_count": 71
        }
      ]
    },
    {
      "cell_type": "code",
      "metadata": {
        "id": "_Yh7iPJl1Pkh"
      },
      "source": [
        "train_dat = df1[:train_size]"
      ],
      "execution_count": 72,
      "outputs": []
    },
    {
      "cell_type": "code",
      "metadata": {
        "id": "11eoJxlr1aM7"
      },
      "source": [
        "test_dat = df1[train_size:]"
      ],
      "execution_count": 73,
      "outputs": []
    },
    {
      "cell_type": "markdown",
      "metadata": {
        "id": "5oD3lLPVTSrZ"
      },
      "source": [
        "## Convert data into sequence\n",
        "\n",
        "LSTMs require sequential data. In this case, price of previous 100 days will be used to predict 101st day price."
      ]
    },
    {
      "cell_type": "code",
      "metadata": {
        "id": "Of1nNY3N1kOH"
      },
      "source": [
        "def convert_data(dataset, num = 100):\n",
        "  data_X, data_y = [],[]\n",
        "  for i in range(len(dataset)-num-1):\n",
        "    data_X.append(dataset[i:i+num,0])\n",
        "    data_y.append(dataset[i+num+1,0])\n",
        "    # convert data to numpy array\n",
        "  return np.array(data_X),np.array(data_y)"
      ],
      "execution_count": 74,
      "outputs": []
    },
    {
      "cell_type": "code",
      "metadata": {
        "id": "8KqJquMr3Fz1"
      },
      "source": [
        "X_train, y_train = convert_data(train_dat)"
      ],
      "execution_count": 75,
      "outputs": []
    },
    {
      "cell_type": "code",
      "metadata": {
        "id": "0QcRQPsP3oaF"
      },
      "source": [
        "X_test, y_test = convert_data(test_dat)"
      ],
      "execution_count": 76,
      "outputs": []
    },
    {
      "cell_type": "code",
      "metadata": {
        "colab": {
          "base_uri": "https://localhost:8080/"
        },
        "id": "8WdSN2Qb3J6C",
        "outputId": "10468abd-7598-4fb4-9077-e1ac952a2f4d"
      },
      "source": [
        "X_train.shape, y_train.shape"
      ],
      "execution_count": 77,
      "outputs": [
        {
          "output_type": "execute_result",
          "data": {
            "text/plain": [
              "((716, 100), (716,))"
            ]
          },
          "metadata": {
            "tags": []
          },
          "execution_count": 77
        }
      ]
    },
    {
      "cell_type": "code",
      "metadata": {
        "colab": {
          "base_uri": "https://localhost:8080/"
        },
        "id": "ZGnVtZJo3gLc",
        "outputId": "426d427e-55ba-4b87-c66d-1c0196e75f31"
      },
      "source": [
        "X_test.shape, y_test.shape"
      ],
      "execution_count": 78,
      "outputs": [
        {
          "output_type": "execute_result",
          "data": {
            "text/plain": [
              "((339, 100), (339,))"
            ]
          },
          "metadata": {
            "tags": []
          },
          "execution_count": 78
        }
      ]
    },
    {
      "cell_type": "code",
      "metadata": {
        "id": "8oQfIq6o3jdq"
      },
      "source": [
        "#reshape input to add extra dimension (batch dimension)\n",
        "X_train = X_train.reshape(X_train.shape[0],X_train.shape[1],1)\n",
        "X_test = X_test.reshape(X_test.shape[0],X_test.shape[1],1)"
      ],
      "execution_count": 79,
      "outputs": []
    },
    {
      "cell_type": "code",
      "metadata": {
        "colab": {
          "base_uri": "https://localhost:8080/"
        },
        "id": "5vmvUezK4IQR",
        "outputId": "9e599f6e-e19b-4e56-8818-a4d3a096ff4f"
      },
      "source": [
        "X_train.shape, X_test.shape"
      ],
      "execution_count": 80,
      "outputs": [
        {
          "output_type": "execute_result",
          "data": {
            "text/plain": [
              "((716, 100, 1), (339, 100, 1))"
            ]
          },
          "metadata": {
            "tags": []
          },
          "execution_count": 80
        }
      ]
    },
    {
      "cell_type": "markdown",
      "metadata": {
        "id": "HAkpQvTpT6N0"
      },
      "source": [
        "# Create Model"
      ]
    },
    {
      "cell_type": "code",
      "metadata": {
        "id": "cthOMM3U4mWd"
      },
      "source": [
        "# A stacked LSTM model with dropout layers included\n",
        "# Final Dense layer returns the prediction\n",
        "\n",
        "model = Sequential()\n",
        "model.add(LSTM(50,return_sequences=True,input_shape = (100,1)))\n",
        "model.add(Dropout(0.2))\n",
        "model.add(LSTM(50,return_sequences=True))\n",
        "model.add(Dropout(0.2))\n",
        "model.add(LSTM(50))\n",
        "model.add(Dropout(0.2))\n",
        "model.add(Dense(1))\n",
        "model.compile(loss = 'mean_squared_error', optimizer='adam')"
      ],
      "execution_count": 81,
      "outputs": []
    },
    {
      "cell_type": "code",
      "metadata": {
        "colab": {
          "base_uri": "https://localhost:8080/"
        },
        "id": "mc_NiVlh5UXI",
        "outputId": "7789579e-dd9e-4770-c6bb-eca0f63f0af3"
      },
      "source": [
        "history = model.fit(X_train,y_train,validation_data=(X_test,y_test),epochs=10,batch_size=64,verbose=1)"
      ],
      "execution_count": 82,
      "outputs": [
        {
          "output_type": "stream",
          "text": [
            "Epoch 1/10\n",
            "12/12 [==============================] - 7s 187ms/step - loss: 0.0223 - val_loss: 0.0773\n",
            "Epoch 2/10\n",
            "12/12 [==============================] - 1s 82ms/step - loss: 0.0067 - val_loss: 0.0237\n",
            "Epoch 3/10\n",
            "12/12 [==============================] - 1s 82ms/step - loss: 0.0041 - val_loss: 0.0389\n",
            "Epoch 4/10\n",
            "12/12 [==============================] - 1s 84ms/step - loss: 0.0028 - val_loss: 0.0088\n",
            "Epoch 5/10\n",
            "12/12 [==============================] - 1s 82ms/step - loss: 0.0021 - val_loss: 0.0063\n",
            "Epoch 6/10\n",
            "12/12 [==============================] - 1s 83ms/step - loss: 0.0018 - val_loss: 0.0049\n",
            "Epoch 7/10\n",
            "12/12 [==============================] - 1s 82ms/step - loss: 0.0018 - val_loss: 0.0055\n",
            "Epoch 8/10\n",
            "12/12 [==============================] - 1s 83ms/step - loss: 0.0017 - val_loss: 0.0046\n",
            "Epoch 9/10\n",
            "12/12 [==============================] - 1s 83ms/step - loss: 0.0017 - val_loss: 0.0043\n",
            "Epoch 10/10\n",
            "12/12 [==============================] - 1s 83ms/step - loss: 0.0018 - val_loss: 0.0049\n"
          ],
          "name": "stdout"
        }
      ]
    },
    {
      "cell_type": "code",
      "metadata": {
        "colab": {
          "base_uri": "https://localhost:8080/",
          "height": 374
        },
        "id": "9am1Ge19jx0v",
        "outputId": "54cb1790-54f7-4ea3-97b4-3aa4cdb9ac79"
      },
      "source": [
        "plt.figure(figsize=(14,6))\n",
        "plt.plot(history.history['loss'], label='train')\n",
        "plt.plot(history.history['val_loss'], label='test')\n",
        "plt.legend()\n",
        "plt.show()"
      ],
      "execution_count": 106,
      "outputs": [
        {
          "output_type": "display_data",
          "data": {
            "image/png": "[encoded data removed]",
            "text/plain": [
              "<Figure size 1008x432 with 1 Axes>"
            ]
          },
          "metadata": {
            "tags": [],
            "needs_background": "light"
          }
        }
      ]
    },
    {
      "cell_type": "markdown",
      "metadata": {
        "id": "5yRl1u7vUiZb"
      },
      "source": [
        "# Compare predictions of our model and actual prices"
      ]
    },
    {
      "cell_type": "code",
      "metadata": {
        "id": "BI64S2qS6btV"
      },
      "source": [
        "# Get predictions\n",
        "train_predict=model.predict(X_train)\n",
        "test_predict=model.predict(X_test)"
      ],
      "execution_count": 84,
      "outputs": []
    },
    {
      "cell_type": "code",
      "metadata": {
        "id": "qw3ftS2hV8uh"
      },
      "source": [
        "# Inverse transform scaled data\n",
        "train_predict=scaler.inverse_transform(train_predict)\n",
        "test_predict=scaler.inverse_transform(test_predict)"
      ],
      "execution_count": 85,
      "outputs": []
    },
    {
      "cell_type": "code",
      "metadata": {
        "colab": {
          "base_uri": "https://localhost:8080/"
        },
        "id": "-Q4LQ-JVV-X8",
        "outputId": "b2eab947-58b4-4743-d35d-79d74fdedf6d"
      },
      "source": [
        "# Train Accuracy\n",
        "math.sqrt(mean_squared_error(y_train,train_predict))"
      ],
      "execution_count": 86,
      "outputs": [
        {
          "output_type": "execute_result",
          "data": {
            "text/plain": [
              "113.68155076115173"
            ]
          },
          "metadata": {
            "tags": []
          },
          "execution_count": 86
        }
      ]
    },
    {
      "cell_type": "markdown",
      "metadata": {
        "id": "F3XHe7usW6rz"
      },
      "source": [
        "*The model has performed really well here*"
      ]
    },
    {
      "cell_type": "code",
      "metadata": {
        "colab": {
          "base_uri": "https://localhost:8080/"
        },
        "id": "QIrg3CUCWAL0",
        "outputId": "622c7b51-e770-49fb-f910-3895d8101720"
      },
      "source": [
        "# Test Accuracy\n",
        "math.sqrt(mean_squared_error(y_test,test_predict))"
      ],
      "execution_count": 87,
      "outputs": [
        {
          "output_type": "execute_result",
          "data": {
            "text/plain": [
              "150.40261257435836"
            ]
          },
          "metadata": {
            "tags": []
          },
          "execution_count": 87
        }
      ]
    },
    {
      "cell_type": "markdown",
      "metadata": {
        "id": "3LwPWaRRVB1_"
      },
      "source": [
        "## Plot Comparision"
      ]
    },
    {
      "cell_type": "code",
      "metadata": {
        "colab": {
          "base_uri": "https://localhost:8080/"
        },
        "id": "ZX7p9ZppVd-5",
        "outputId": "ca37cc65-daea-4b27-c3bb-98a4f0657659"
      },
      "source": [
        "np.empty_like(df1).shape"
      ],
      "execution_count": 88,
      "outputs": [
        {
          "output_type": "execute_result",
          "data": {
            "text/plain": [
              "(1257, 1)"
            ]
          },
          "metadata": {
            "tags": []
          },
          "execution_count": 88
        }
      ]
    },
    {
      "cell_type": "code",
      "metadata": {
        "colab": {
          "base_uri": "https://localhost:8080/",
          "height": 374
        },
        "id": "NaK9XYJLWCY2",
        "outputId": "33f0da55-0270-4ac8-b908-031cd02415b5"
      },
      "source": [
        "look_back=100\n",
        "\n",
        "## TRAIN\n",
        "#create empty array with same shape of df1\n",
        "trainPredictPlot = np.empty_like(df1)\n",
        "trainPredictPlot[:, :] = np.nan\n",
        "#shift train predictions by 100 because first 100 inputs will be used to predict first output\n",
        "trainPredictPlot[look_back:len(train_predict)+look_back, :] = train_predict\n",
        "\n",
        "## TEST\n",
        "#create empty array with same shape of df1\n",
        "testPredictPlot = np.empty_like(df1)\n",
        "testPredictPlot[:, :] = np.nan\n",
        "#shift train predictions by 100(same as train shift) + trainpred(ignore train preds) + 100(inputs used to predict 1st test value) + 1\n",
        "testPredictPlot[len(train_predict)+(look_back*2)+1:len(df1)-1, :] = test_predict\n",
        "\n",
        "## PLOT\n",
        "plt.figure(figsize=(18,6))\n",
        "plt.plot(scaler.inverse_transform(df1), label='Actual values')\n",
        "plt.plot(trainPredictPlot, label='Train pred')\n",
        "plt.plot(testPredictPlot, label='Test pred')\n",
        "plt.legend()\n",
        "plt.show()"
      ],
      "execution_count": 111,
      "outputs": [
        {
          "output_type": "display_data",
          "data": {
            "image/png": "[encoded data removed]",
            "text/plain": [
              "<Figure size 1296x432 with 1 Axes>"
            ]
          },
          "metadata": {
            "tags": [],
            "needs_background": "light"
          }
        }
      ]
    },
    {
      "cell_type": "markdown",
      "metadata": {
        "id": "907Nc0NAXD1y"
      },
      "source": [
        "*As we can see from the plot, the model gave us amazing results*"
      ]
    },
    {
      "cell_type": "markdown",
      "metadata": {
        "id": "yAWQ5TqPXUxT"
      },
      "source": [
        "# Make future predictions (30 days)\n",
        "\n",
        "This can be done by using the data predicted by LSTM as its new input"
      ]
    },
    {
      "cell_type": "code",
      "metadata": {
        "colab": {
          "base_uri": "https://localhost:8080/"
        },
        "id": "6Dcz7cpcW67R",
        "outputId": "e6f81758-4d82-46db-c02a-dfe3eb51f91d"
      },
      "source": [
        "len(test_dat)"
      ],
      "execution_count": 90,
      "outputs": [
        {
          "output_type": "execute_result",
          "data": {
            "text/plain": [
              "440"
            ]
          },
          "metadata": {
            "tags": []
          },
          "execution_count": 90
        }
      ]
    },
    {
      "cell_type": "code",
      "metadata": {
        "colab": {
          "base_uri": "https://localhost:8080/"
        },
        "id": "hQioyXdiWTFR",
        "outputId": "c8b66b01-04a1-4e71-e4ee-3c8525c9aec8"
      },
      "source": [
        "#Use 100 days data at the end to predict 101st unkown date\n",
        "x_input=test_dat[340:].reshape(1,-1)\n",
        "x_input.shape"
      ],
      "execution_count": 91,
      "outputs": [
        {
          "output_type": "execute_result",
          "data": {
            "text/plain": [
              "(1, 100)"
            ]
          },
          "metadata": {
            "tags": []
          },
          "execution_count": 91
        }
      ]
    },
    {
      "cell_type": "code",
      "metadata": {
        "id": "S4RmQaPJW8nd"
      },
      "source": [
        "temp_input=list(x_input)\n",
        "temp_input=temp_input[0].tolist()"
      ],
      "execution_count": 92,
      "outputs": []
    },
    {
      "cell_type": "code",
      "metadata": {
        "colab": {
          "base_uri": "https://localhost:8080/"
        },
        "id": "qqvf-ErtXFA2",
        "outputId": "99d8893b-ae62-49dd-adf6-d8d4a9baefab"
      },
      "source": [
        "len(temp_input)"
      ],
      "execution_count": 93,
      "outputs": [
        {
          "output_type": "execute_result",
          "data": {
            "text/plain": [
              "100"
            ]
          },
          "metadata": {
            "tags": []
          },
          "execution_count": 93
        }
      ]
    },
    {
      "cell_type": "code",
      "metadata": {
        "colab": {
          "base_uri": "https://localhost:8080/"
        },
        "id": "_OouNrG6XGX9",
        "outputId": "ba3a3b65-7dc6-41dc-f3db-acc0dbb21c29"
      },
      "source": [
        "lst_output=[]\n",
        "n_steps=100\n",
        "i=0\n",
        "while(i<30):\n",
        "    # everything (29 of them) except the first prediction\n",
        "    if(len(temp_input)>100):\n",
        "        # take the last 100 elements of the array to predict\n",
        "        x_input=np.array(temp_input[1:])\n",
        "\n",
        "        # reshape to match model input shape\n",
        "        x_input=x_input.reshape(1,-1)\n",
        "        x_input = x_input.reshape((1, n_steps, 1))\n",
        "\n",
        "        #predict the price\n",
        "        yhat = model.predict(x_input, verbose=0)\n",
        "        print(\"{} day output : {}\".format(i,yhat[0]))\n",
        "\n",
        "        #append it to the list\n",
        "        temp_input.extend(yhat[0].tolist())\n",
        "        temp_input=temp_input[1:]\n",
        "        lst_output.extend(yhat.tolist())\n",
        "        i=i+1\n",
        "\n",
        "    # for first prediction only\n",
        "    else:\n",
        "        # reshape to match model input shape\n",
        "        x_input = x_input.reshape((1, n_steps,1))\n",
        "\n",
        "        #predict the first price\n",
        "        yhat = model.predict(x_input, verbose=0)\n",
        "        print(\"{} day output {}\".format(i,yhat))\n",
        "\n",
        "        #append it to input so that it will be used to predict next day's price\n",
        "        temp_input.extend(yhat[0].tolist())\n",
        "        lst_output.extend(yhat.tolist())\n",
        "        i=i+1\n",
        "    \n",
        "print(lst_output)"
      ],
      "execution_count": 94,
      "outputs": [
        {
          "output_type": "stream",
          "text": [
            "0 day output [[0.77477854]]\n",
            "1 day output : [0.7734595]\n",
            "2 day output : [0.7722706]\n",
            "3 day output : [0.77117723]\n",
            "4 day output : [0.77014935]\n",
            "5 day output : [0.7691625]\n",
            "6 day output : [0.7681988]\n",
            "7 day output : [0.7672456]\n",
            "8 day output : [0.7662949]\n",
            "9 day output : [0.7653421]\n",
            "10 day output : [0.76438516]\n",
            "11 day output : [0.7634235]\n",
            "12 day output : [0.76245725]\n",
            "13 day output : [0.76148725]\n",
            "14 day output : [0.7605146]\n",
            "15 day output : [0.7595404]\n",
            "16 day output : [0.7585652]\n",
            "17 day output : [0.75759]\n",
            "18 day output : [0.7566152]\n",
            "19 day output : [0.7556413]\n",
            "20 day output : [0.75466835]\n",
            "21 day output : [0.7536966]\n",
            "22 day output : [0.7527263]\n",
            "23 day output : [0.7517574]\n",
            "24 day output : [0.75078976]\n",
            "25 day output : [0.74982345]\n",
            "26 day output : [0.7488585]\n",
            "27 day output : [0.74789476]\n",
            "28 day output : [0.7469323]\n",
            "29 day output : [0.74597096]\n",
            "[[0.7747785449028015], [0.7734594941139221], [0.7722706198692322], [0.7711772322654724], [0.7701493501663208], [0.7691624760627747], [0.7681987881660461], [0.7672455906867981], [0.7662948966026306], [0.765342116355896], [0.7643851637840271], [0.763423502445221], [0.7624572515487671], [0.7614872455596924], [0.7605146169662476], [0.7595403790473938], [0.7585651874542236], [0.7575899958610535], [0.7566152215003967], [0.7556412816047668], [0.7546683549880981], [0.753696620464325], [0.7527263164520264], [0.7517573833465576], [0.7507897615432739], [0.7498234510421753], [0.7488585114479065], [0.7478947639465332], [0.746932327747345], [0.7459709644317627]]\n"
          ],
          "name": "stdout"
        }
      ]
    },
    {
      "cell_type": "markdown",
      "metadata": {
        "id": "-mh2X-RFgg_S"
      },
      "source": [
        "## Plot future prediction"
      ]
    },
    {
      "cell_type": "code",
      "metadata": {
        "id": "33qI5IKcXM6s"
      },
      "source": [
        "day_new=np.arange(1,100)\n",
        "day_pred=np.arange(101,131)"
      ],
      "execution_count": 95,
      "outputs": []
    },
    {
      "cell_type": "code",
      "metadata": {
        "colab": {
          "base_uri": "https://localhost:8080/"
        },
        "id": "rXZRoQXKXRbp",
        "outputId": "3db5b69c-1937-4766-ede6-f5b5e0d2b430"
      },
      "source": [
        "len(df1)"
      ],
      "execution_count": 96,
      "outputs": [
        {
          "output_type": "execute_result",
          "data": {
            "text/plain": [
              "1257"
            ]
          },
          "metadata": {
            "tags": []
          },
          "execution_count": 96
        }
      ]
    },
    {
      "cell_type": "code",
      "metadata": {
        "colab": {
          "base_uri": "https://localhost:8080/",
          "height": 282
        },
        "id": "LqveasbpXUtx",
        "outputId": "d11c4537-af2b-4b0d-834d-277223facbd4"
      },
      "source": [
        "plt.plot(day_new,scaler.inverse_transform(df1[1158:]))\n",
        "plt.plot(day_pred,scaler.inverse_transform(lst_output))"
      ],
      "execution_count": 97,
      "outputs": [
        {
          "output_type": "execute_result",
          "data": {
            "text/plain": [
              "[<matplotlib.lines.Line2D at 0x7f2010968450>]"
            ]
          },
          "metadata": {
            "tags": []
          },
          "execution_count": 97
        },
        {
          "output_type": "display_data",
          "data": {
            "image/png": "[encoded data removed]",
            "text/plain": [
              "<Figure size 432x288 with 1 Axes>"
            ]
          },
          "metadata": {
            "tags": [],
            "needs_background": "light"
          }
        }
      ]
    },
    {
      "cell_type": "markdown",
      "metadata": {
        "id": "5ZnczJi8gmtK"
      },
      "source": [
        "# PREDICTED PRICE FOR 11-08-2021"
      ]
    },
    {
      "cell_type": "code",
      "metadata": {
        "colab": {
          "base_uri": "https://localhost:8080/"
        },
        "id": "FUr_vqnCnIuO",
        "outputId": "d04900ae-854c-4dc8-df45-1c24edc08381"
      },
      "source": [
        "scaler.inverse_transform(lst_output)[0][0]"
      ],
      "execution_count": 101,
      "outputs": [
        {
          "output_type": "execute_result",
          "data": {
            "text/plain": [
              "175.7505279904604"
            ]
          },
          "metadata": {
            "tags": []
          },
          "execution_count": 101
        }
      ]
    },
    {
      "cell_type": "markdown",
      "metadata": {
        "id": "TK8QkFxyhM5G"
      },
      "source": [
        "# Actual Price on 11-08-2021"
      ]
    },
    {
      "cell_type": "markdown",
      "metadata": {
        "id": "7NsnNAx7hB-y"
      },
      "source": [
        "![Screenshot 2021-08-11 193117.png](data:image/png;base64,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)"
      ]
    },
    {
      "cell_type": "markdown",
      "metadata": {
        "id": "jsu5o6rOhXE5"
      },
      "source": [
        "*Not bad, huh ;)*"
      ]
    },
    {
      "cell_type": "code",
      "metadata": {
        "id": "321daV62hZsV"
      },
      "source": [
        ""
      ],
      "execution_count": null,
      "outputs": []
    }
  ]
}